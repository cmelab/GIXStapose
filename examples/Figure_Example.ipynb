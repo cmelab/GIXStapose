{
 "cells": [
  {
   "cell_type": "markdown",
   "metadata": {},
   "source": [
    "# Using GIXStapose to Generate Reproducible Figures\n",
    "\n",
    "Imagine, you've just finished running a parameter sweep of 10 different temperatures, 10 different pressures, and 10 different compounds. You've used a GUI (perhaps the GIXStapose GUI!) for chemical structure visualization and painstakenly rotated and zoomed to create some really nice figures--it took you a day and a half, but now you're ready to add these figures to your publication. However, when you show the figures you made to your advisor, she asks for a view from a different angle and using a different color scheme...\n",
    "\n",
    "GIXStapose is designed to save you time in these situations by generating and using metadata for orienting and visualizing chemical structures and their diffraction patterns. In this notebook, we demonstrate how to use the GIXStapose library outside of the GUI, including:\n",
    "- reproducing the exact figure seen in the GUI \n",
    "- exploring real (messy) simulation data\n",
    "\n",
    "![screenshot.png](../gixstapose/data/screenshot.png)"
   ]
  },
  {
   "cell_type": "code",
   "execution_count": null,
   "metadata": {},
   "outputs": [],
   "source": [
    "import PIL\n",
    "import matplotlib.pyplot as plt\n",
    "from fresnel import camera, pathtrace\n",
    "\n",
    "from gixstapose.draw_scene import get_scene, get_info\n",
    "from gixstapose.diffractometer import Diffractometer"
   ]
  },
  {
   "cell_type": "markdown",
   "metadata": {},
   "source": [
    "We'll use the `get_scene` function to load a gsd file into a [`fresnel.Scene`](https://fresnel.readthedocs.io/en/stable/examples/00-Basic-tutorials/04-Scene-properties.html).\n",
    "\n",
    "`get_scene` by default will use the [cpk color map](https://en.wikipedia.org/wiki/CPK_coloring#Typical_assignments), but you can also use any [matplotlib colormap](https://matplotlib.org/tutorials/colors/colormaps.html). This is especially useful when working with coarse-grained or other non-atomistic systems."
   ]
  },
  {
   "cell_type": "code",
   "execution_count": null,
   "metadata": {},
   "outputs": [],
   "source": [
    "scene, info = get_scene(\"../gixstapose/data/sc10.pdb\")"
   ]
  },
  {
   "cell_type": "markdown",
   "metadata": {},
   "source": [
    "Next we can set a `fresnel.camera` object with the same parameters as the one shown above in the GUI and connect that camera object to the scene.\n",
    "\n",
    "You can easily get the camera parameters from the GUI by selecting \"Print Camera\" in the GIXStapose menu bar."
   ]
  },
  {
   "cell_type": "code",
   "execution_count": null,
   "metadata": {},
   "outputs": [],
   "source": [
    "cam = camera.Orthographic(\n",
    "    position = [1.412, 0.698, 0.720],\n",
    "    look_at  = [0.000, 0.000, 0.000],\n",
    "    up       = [-0.292, -0.333, 0.896],\n",
    "    height   = 1.500\n",
    ")\n",
    "scene.camera = cam"
   ]
  },
  {
   "cell_type": "markdown",
   "metadata": {},
   "source": [
    "The next cell will take a minute to run but shows how to easily recreate the same image as the GUI using fresnel's high quality pathtracer."
   ]
  },
  {
   "cell_type": "code",
   "execution_count": null,
   "metadata": {},
   "outputs": [],
   "source": [
    "output = pathtrace(scene, light_samples=40, w=600, h=600)\n",
    "output"
   ]
  },
  {
   "cell_type": "markdown",
   "metadata": {},
   "source": [
    "Then we can save this output using python image library (PIL)."
   ]
  },
  {
   "cell_type": "code",
   "execution_count": null,
   "metadata": {},
   "outputs": [],
   "source": [
    "image = PIL.Image.fromarray(output[:], mode='RGBA')\n",
    "image.save(\"structure.png\", dpi=(300, 300))"
   ]
  },
  {
   "cell_type": "markdown",
   "metadata": {},
   "source": [
    "In a similar fashion, we can use the `load_compound` function to load the compound particle positions and box into the `Diffractometer` class and then choose a diffraction angle based on the camera position using the `diffract_from_camera` function."
   ]
  },
  {
   "cell_type": "code",
   "execution_count": null,
   "metadata": {},
   "outputs": [],
   "source": [
    "d = Diffractometer(length_scale=1.0)\n",
    "d.load(info[\"positions\"], info[\"box\"])\n",
    "d.diffract_from_camera(cam)\n",
    "fig, ax = d.plot()"
   ]
  },
  {
   "cell_type": "markdown",
   "metadata": {},
   "source": [
    "And the diffraction pattern can be easily saved using the `savefig` function."
   ]
  },
  {
   "cell_type": "code",
   "execution_count": null,
   "metadata": {},
   "outputs": [],
   "source": [
    "fig.savefig(\"diffraction.png\")"
   ]
  },
  {
   "cell_type": "markdown",
   "metadata": {},
   "source": [
    "Finally let's look at a messy example using real simulation data. The original xml file was taken from [https://doi.org/10.18122/cme_lab/4/boisestate](https://doi.org/10.18122/cme_lab/4/boisestate).\n",
    "\n",
    "The original file can be found in p3ht_data/1000_oligomers/crystallinities/crystalline.xml. The file was converted from an xml to a gsd using [cmeutils](https://github.com/cmelab/cmeutils) [xml_to_gsd](https://github.com/cmelab/cmeutils/blob/8e33350630891cde89c9ba82a9adc682407c320f/cmeutils/gsd_utils.py#L192) function, and reduced to contain only the backbone carbons (type CA) using [snap_delete_types](https://github.com/cmelab/cmeutils/blob/8e33350630891cde89c9ba82a9adc682407c320f/cmeutils/gsd_utils.py#L141) so it would load more quickly. \n",
    "\n",
    "This is from one of our united-atom simulations of organic photovoltaic polymers, specifically [P3HT](http://gisaxs.com/index.php/Material:P3HT). Even with these simplifications, it still contains 60,000 particles, so the following cells may be a little slow."
   ]
  },
  {
   "cell_type": "code",
   "execution_count": null,
   "metadata": {},
   "outputs": [],
   "source": [
    "p3ht_file = \"../gixstapose/data/crystalline_CAonly.gsd\""
   ]
  },
  {
   "cell_type": "markdown",
   "metadata": {},
   "source": [
    "Next let's choose a camera position. I chose this camera position by using the GUI to find distinct diffraction peaks."
   ]
  },
  {
   "cell_type": "code",
   "execution_count": null,
   "metadata": {},
   "outputs": [],
   "source": [
    "cam = camera.Orthographic(\n",
    "   position = [2.892, 5.120, -0.830],\n",
    "   look_at =  [-0.797, 0.604, 0.862],\n",
    "   up =       [-0.733, 0.390, -0.557],\n",
    "   height =   170\n",
    ")"
   ]
  },
  {
   "cell_type": "markdown",
   "metadata": {},
   "source": [
    "Next let's create a scene from this compound--I'm going to use a custom colormap to set the CA type to be gray. There's a lot of additional modifications that can be done to the fresnel scene--I highly recommend [their tutorials](https://fresnel.readthedocs.io/en/stable/examples/00-Basic-tutorials/00-Introduction.html). But for this example, lets just connect the camera and render it!"
   ]
  },
  {
   "cell_type": "code",
   "execution_count": null,
   "metadata": {},
   "outputs": [],
   "source": [
    "p3ht_scene, info = get_scene(p3ht_file, color={\"CA\": \"gray\"}, scale=4)\n",
    "p3ht_scene.camera = cam\n",
    "p3ht_output = pathtrace(p3ht_scene, light_samples=40, w=600, h=600)\n",
    "p3ht_output"
   ]
  },
  {
   "cell_type": "markdown",
   "metadata": {},
   "source": [
    "At this particular angle we'll draw your attention to parallel stripes of gray separated by black shadowy regions: These stripes are \"lamellae\" and are a periodic feature that should be measurable with the GIXStapose diffractometer. (Reminder! I used GIXStapose GUI to find an orientation with measurable lamellar peaks and saved its camera orientation so we *could* return to this precise orientation!)"
   ]
  },
  {
   "cell_type": "code",
   "execution_count": null,
   "metadata": {},
   "outputs": [],
   "source": [
    "d = Diffractometer(length_scale=1)\n",
    "d.load(info[\"positions\"], info[\"box\"])\n",
    "dp = d.diffract_from_camera(cam)\n",
    "fig, ax = d.plot()"
   ]
  },
  {
   "cell_type": "markdown",
   "metadata": {},
   "source": [
    "Aw yeah, just look at that classic lamellar structure! The reflections of the (100) and (200) crystallographic planes are clearly visibile, with a hint of (300)! In this diffraction pattern, the wave vectors pointing to these yellow/green peak centers can be used to derive average lamellar spacings that would be a mess to deduce from the direct visualization. This example showcases how looking at chemical structures through the diffraction lens *first* can identify periodic features that may not be immediately visible to the eye. Once we know a periodic feature exists, we can pull up the chemical structure visualization and look for features at the expected length scales. We can also use this orientation as a reference point to generate a sequence of rotations that reveal other structures (e.g., for you P3HT experts, an orientation that more clearly reveals the spacing of the pi-pi stacking of the P3HT backbones)."
   ]
  },
  {
   "cell_type": "markdown",
   "metadata": {},
   "source": [
    "Finally, if you want to get the reciprocal space values of the peaks in your diffraction pattern, we provide an interactive class called `PeakLabeller` you can use. Sometimes the interactive backends of matplotlib are a little tricky, so you may need to restart your kernel and reload some information."
   ]
  },
  {
   "cell_type": "code",
   "execution_count": null,
   "metadata": {},
   "outputs": [],
   "source": [
    "%matplotlib qt5"
   ]
  },
  {
   "cell_type": "code",
   "execution_count": null,
   "metadata": {},
   "outputs": [],
   "source": [
    "# This cell will reload necessary information if needed\n",
    "import matplotlib.pyplot as plt\n",
    "\n",
    "from fresnel import camera\n",
    "\n",
    "from gixstapose.draw_scene import get_info\n",
    "from gixstapose.diffractometer import Diffractometer, PeakLabeller\n",
    "\n",
    "\n",
    "p3ht_file = \"../gixstapose/data/crystalline_CAonly.gsd\"\n",
    "info = get_info(p3ht_file)\n",
    "\n",
    "cam = camera.Orthographic(\n",
    "   position = [2.892, 5.120, -0.830],\n",
    "   look_at =  [-0.797, 0.604, 0.862],\n",
    "   up =       [-0.733, 0.390, -0.557],\n",
    "   height =   170\n",
    ")\n",
    "\n",
    "d = Diffractometer(length_scale=1)\n",
    "d.load(info[\"positions\"], info[\"box\"])\n",
    "dp = d.diffract_from_camera(cam)"
   ]
  },
  {
   "cell_type": "code",
   "execution_count": null,
   "metadata": {},
   "outputs": [],
   "source": [
    "fig, ax = d.plot()\n",
    "\n",
    "PeakLabeller(ax)"
   ]
  },
  {
   "cell_type": "code",
   "execution_count": null,
   "metadata": {},
   "outputs": [],
   "source": [
    "peaks = [0.057, 0.290]\n",
    "for peak in peaks:\n",
    "    print(f\"The peak at {peak} 1/Å corresponds to a periodic spacing of {1/peak:.2f} Å.\")"
   ]
  },
  {
   "cell_type": "markdown",
   "metadata": {},
   "source": [
    "The figure below was created using `PeakLabeller`. We can see that these periodic distances are reasonable for the lamellar spacing (\\~17 Å) and pi-stacking (\\~4 Å) and agree with [previously reported values](https://doi.org/10.1016/j.orgel.2013.02.028).\n",
    "![labelled peaks](../gixstapose/data/labelledpeaks.png)"
   ]
  },
  {
   "cell_type": "code",
   "execution_count": null,
   "metadata": {},
   "outputs": [],
   "source": []
  }
 ],
 "metadata": {
  "kernelspec": {
   "display_name": "Python 3 (ipykernel)",
   "language": "python",
   "name": "python3"
  },
  "language_info": {
   "codemirror_mode": {
    "name": "ipython",
    "version": 3
   },
   "file_extension": ".py",
   "mimetype": "text/x-python",
   "name": "python",
   "nbconvert_exporter": "python",
   "pygments_lexer": "ipython3",
   "version": "3.8.12"
  }
 },
 "nbformat": 4,
 "nbformat_minor": 4
}
